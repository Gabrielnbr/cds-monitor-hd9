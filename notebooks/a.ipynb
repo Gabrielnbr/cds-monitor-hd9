{
 "cells": [
  {
   "cell_type": "code",
   "execution_count": null,
   "metadata": {
    "vscode": {
     "languageId": "sql"
    }
   },
   "outputs": [],
   "source": [
    "SELECT \n",
    "\to.order_purchase_timestamp,\n",
    "\to.customer_id,\n",
    "\to.order_approved_at \n",
    "FROM orders o\n",
    "WHERE \n",
    "\to.order_status = 'delivered';"
   ]
  }
 ],
 "metadata": {
  "language_info": {
   "name": "python"
  },
  "orig_nbformat": 4
 },
 "nbformat": 4,
 "nbformat_minor": 2
}
