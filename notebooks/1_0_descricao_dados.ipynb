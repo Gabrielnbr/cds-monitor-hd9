{
 "cells": [
  {
   "cell_type": "markdown",
   "metadata": {},
   "source": [
    "# 0 Imports"
   ]
  },
  {
   "cell_type": "code",
   "execution_count": 29,
   "metadata": {},
   "outputs": [],
   "source": [
    "import pickle\n",
    "import datetime\n",
    "import inflection\n",
    "\n",
    "import numpy    as np\n",
    "import pandas   as pd\n",
    "import seaborn  as sns\n",
    "\n",
    "from matplotlib import pyplot as plt\n",
    "\n",
    "import plotly.express as px\n",
    "\n",
    "from IPython.display        import Image\n",
    "from IPython.core.display   import HTML"
   ]
  },
  {
   "cell_type": "markdown",
   "metadata": {},
   "source": [
    "## 0.1 Funções Suporte"
   ]
  },
  {
   "cell_type": "code",
   "execution_count": 2,
   "metadata": {},
   "outputs": [],
   "source": [
    "# Supressão da notação científica.\n",
    "np.set_printoptions(suppress=True)\n",
    "pd.set_option('display.float_format', '{:.6f}'.format)"
   ]
  },
  {
   "cell_type": "code",
   "execution_count": 3,
   "metadata": {},
   "outputs": [],
   "source": [
    "def estatistica_descritiva(df1):\n",
    "    # Medidas de tendência central - Mean, Median\n",
    "    media = pd.DataFrame(df1.apply(np.mean)).T\n",
    "    mediana = pd.DataFrame(df1.apply(np.median)).T\n",
    "    \n",
    "    # Medidas de Dispersão - Std, min, max, range, skew, kurtosis\n",
    "    desvio_padrao = pd.DataFrame(df1.apply(np.std)).T\n",
    "    minimo = pd.DataFrame(df1.apply(np.min)).T\n",
    "    maximo = pd.DataFrame(df1.apply(np.max)).T\n",
    "    range = pd.DataFrame(df1.apply(lambda x : x.max() - x.min())).T\n",
    "    assimetria = pd.DataFrame(df1.apply(lambda x : x.skew())).T\n",
    "    curtosis = pd.DataFrame(df1.apply(lambda x : x.kurtosis())).T\n",
    "    \n",
    "    estatistica = pd.concat([minimo, maximo, range, media, mediana, desvio_padrao, assimetria, curtosis]).T.reset_index()\n",
    "    estatistica.columns = ['variaveis','minimo', 'maximo', 'range', 'media', 'mediana', 'desvio_padrao', 'assimetria', 'curtosis']\n",
    "    \n",
    "    return estatistica"
   ]
  },
  {
   "cell_type": "code",
   "execution_count": 4,
   "metadata": {},
   "outputs": [],
   "source": [
    "def visualizacao_dados_categoricos(df):\n",
    "    for i in df:\n",
    "        print(f'Atributo: {i}') \n",
    "        print(f'Valores Únicos: {len(df[i].sort_values().unique())}')\n",
    "        print(f'Valores Descritos: {df[i].sort_values().unique().tolist()}\\n')"
   ]
  },
  {
   "cell_type": "code",
   "execution_count": 5,
   "metadata": {},
   "outputs": [],
   "source": [
    "## Function to reduce the DF size\n",
    "## It is necessary that after using this code, carefully check the output results for each column.\n",
    "def reduce_mem_usage(df, verbose=True):\n",
    "    numerics = ['int16', 'int32', 'int64', 'float16', 'float32', 'float64']\n",
    "    start_mem = df.memory_usage().sum() / 10242\n",
    "    for col in df.columns:\n",
    "        col_type = df[col].dtypes\n",
    "        if col_type in numerics:\n",
    "            c_min = df[col].min()\n",
    "            c_max = df[col].max()\n",
    "            if str(col_type)[:3] == 'int':\n",
    "                if c_min > np.iinfo(np.int8).min and c_max < np.iinfo(np.int8).max:\n",
    "                    df[col] = df[col].astype(np.int8)\n",
    "                elif c_min > np.iinfo(np.int16).min and c_max < np.iinfo(np.int16).max:\n",
    "                    df[col] = df[col].astype(np.int16)\n",
    "                elif c_min > np.iinfo(np.int32).min and c_max < np.iinfo(np.int32).max:\n",
    "                    df[col] = df[col].astype(np.int32)\n",
    "                elif c_min > np.iinfo(np.int64).min and c_max < np.iinfo(np.int64).max:\n",
    "                    df[col] = df[col].astype(np.int64)\n",
    "            else:\n",
    "                if c_min > np.finfo(np.float16).min and c_max < np.finfo(np.float16).max:\n",
    "                    df[col] = df[col].astype(np.float16)\n",
    "                elif c_min > np.finfo(np.float32).min and c_max < np.finfo(np.float32).max:\n",
    "                    df[col] = df[col].astype(np.float32)\n",
    "                else:\n",
    "                    df[col] = df[col].astype(np.float64)\n",
    "    end_mem = df.memory_usage().sum() / 10242\n",
    "    if verbose: print('Mem. usage decreased to {:5.2f} Mb ({:.1f}% reduction)'.format(end_mem, 100 * (start_mem - end_mem) / start_mem))\n",
    "    return df"
   ]
  },
  {
   "cell_type": "code",
   "execution_count": 6,
   "metadata": {},
   "outputs": [
    {
     "name": "stdout",
     "output_type": "stream",
     "text": [
      "%pylab is deprecated, use %matplotlib inline and import the required libraries.\n",
      "Populating the interactive namespace from numpy and matplotlib\n"
     ]
    },
    {
     "data": {
      "text/html": [
       "<style>.container { width: 100% !important;} </style>"
      ],
      "text/plain": [
       "<IPython.core.display.HTML object>"
      ]
     },
     "metadata": {},
     "output_type": "display_data"
    }
   ],
   "source": [
    "def jupyter_settings():\n",
    "    %matplotlib inline\n",
    "    %pylab inline\n",
    "    \n",
    "    plt.style.use( 'bmh' )\n",
    "    plt.rcParams['figure.figsize'] = [18,10]\n",
    "    plt.rcParams['font.size'] = 24\n",
    "    \n",
    "    display( HTML('<style>.container { width: 100% !important;} </style>') )\n",
    "    pd.options.display.max_columns = None\n",
    "    pd.options.display.max_rows = None\n",
    "    pd.set_option( 'display.expand_frame_repr', False)\n",
    "    \n",
    "    sns.set()\n",
    "    \n",
    "jupyter_settings()"
   ]
  },
  {
   "cell_type": "code",
   "execution_count": 7,
   "metadata": {},
   "outputs": [],
   "source": [
    "def importar_arquivos()-> list:\n",
    "    \"\"\"\n",
    "    Método para importar os DataFrames salvos no formato pkl.\n",
    "    Por enquanto não vamos receber dados externos, mas no futuro isso será implementado.\n",
    "    \"\"\"\n",
    "    \n",
    "    arquivos = os.listdir(__CAMINHO_RAW)\n",
    "    lista_arquivos = [arquivo for arquivo in arquivos if arquivo.endswith('.csv')]\n",
    "    \n",
    "    return lista_arquivos"
   ]
  },
  {
   "cell_type": "code",
   "execution_count": 8,
   "metadata": {},
   "outputs": [],
   "source": [
    "def exportar_df(df: pd.DataFrame):\n",
    "    df.to_pickle(f'{__CAMINHO_INTERIM}/1_0_descricao.pkl')"
   ]
  },
  {
   "cell_type": "code",
   "execution_count": 9,
   "metadata": {},
   "outputs": [],
   "source": [
    "def renomear_colunas(df: pd.DataFrame)-> pd.DataFrame:\n",
    "    \n",
    "    columns_old = df.columns\n",
    "    snakecase = lambda x : inflection.underscore(x)\n",
    "    columns_new = list(map(snakecase,columns_old))\n",
    "    df.columns = columns_new\n",
    "    \n",
    "    return df"
   ]
  },
  {
   "cell_type": "code",
   "execution_count": 10,
   "metadata": {},
   "outputs": [],
   "source": [
    "def mundaca_tipo_date(df: pd.DataFrame)-> pd.DataFrame:\n",
    "    df['date'] = pd.to_datetime( df['date'] )\n",
    "    return df"
   ]
  },
  {
   "cell_type": "code",
   "execution_count": 11,
   "metadata": {},
   "outputs": [],
   "source": [
    "def mesclar_arquivos(lista_arquivos: list,)-> pd.DataFrame:\n",
    "    \"\"\"\n",
    "    Método para meclar os DataFrames. Aporveito para acrescentar 1 coluna de identificação da tabela.\n",
    "    Preciso colocar essa identificação para não misturar os dados na hora da análise.\n",
    "    \"\"\"\n",
    "    dfs = pd.DataFrame()\n",
    "    for arquivo in lista_arquivos:\n",
    "    \n",
    "        df = pd.read_csv( os.path.join( __CAMINHO_RAW, arquivo ) )\n",
    "        maquina = arquivo.split('_')[1]\n",
    "        df['maquina'] = maquina\n",
    "    \n",
    "        df = renomear_colunas(df)\n",
    "        df = mundaca_tipo_date(df)\n",
    "\n",
    "        if dfs.empty:\n",
    "            dfs = df\n",
    "        else:\n",
    "            if maquina in dfs['maquina'].values:\n",
    "\n",
    "                date = dfs.loc[dfs['maquina'] == maquina, 'date']\n",
    "                filtro = date.max()\n",
    "                df = df.loc[df['date'] > filtro]\n",
    "                \n",
    "                dfs = pd.concat([dfs,df], ignore_index=True)\n",
    "            else:\n",
    "                dfs = pd.concat([dfs,df], ignore_index=True)\n",
    "\n",
    "    return dfs"
   ]
  },
  {
   "cell_type": "markdown",
   "metadata": {},
   "source": [
    "## 0.2 Load Data"
   ]
  },
  {
   "cell_type": "code",
   "execution_count": 12,
   "metadata": {},
   "outputs": [],
   "source": [
    "__CAMINHO_RAW = '../data/raw/'\n",
    "#__CAMINHO_RAW = 'E:/4_arquivos/1_projeto/modelo_unicin/src/data/raw'\n",
    "\n",
    "__CAMINHO_INTERIM = '../data/interim'\n"
   ]
  },
  {
   "cell_type": "code",
   "execution_count": 13,
   "metadata": {},
   "outputs": [],
   "source": [
    "lista_arquivos = importar_arquivos()"
   ]
  },
  {
   "cell_type": "markdown",
   "metadata": {},
   "source": [
    "## 0.3 Ajuste primário"
   ]
  },
  {
   "cell_type": "code",
   "execution_count": 14,
   "metadata": {},
   "outputs": [],
   "source": [
    "df = mesclar_arquivos(lista_arquivos=lista_arquivos)"
   ]
  },
  {
   "cell_type": "markdown",
   "metadata": {},
   "source": [
    "# 1.0 Descrição dos Dados"
   ]
  },
  {
   "cell_type": "markdown",
   "metadata": {},
   "source": [
    "## 1.1 Data Sample"
   ]
  },
  {
   "cell_type": "code",
   "execution_count": 15,
   "metadata": {},
   "outputs": [
    {
     "data": {
      "text/html": [
       "<div>\n",
       "<style scoped>\n",
       "    .dataframe tbody tr th:only-of-type {\n",
       "        vertical-align: middle;\n",
       "    }\n",
       "\n",
       "    .dataframe tbody tr th {\n",
       "        vertical-align: top;\n",
       "    }\n",
       "\n",
       "    .dataframe thead th {\n",
       "        text-align: right;\n",
       "    }\n",
       "</style>\n",
       "<table border=\"1\" class=\"dataframe\">\n",
       "  <thead>\n",
       "    <tr style=\"text-align: right;\">\n",
       "      <th></th>\n",
       "      <th>subscription_name</th>\n",
       "      <th>subscription_guid</th>\n",
       "      <th>date</th>\n",
       "      <th>resource_guid</th>\n",
       "      <th>service_name</th>\n",
       "      <th>service_type</th>\n",
       "      <th>service_region</th>\n",
       "      <th>service_resource</th>\n",
       "      <th>quantity</th>\n",
       "      <th>cost</th>\n",
       "      <th>maquina</th>\n",
       "    </tr>\n",
       "  </thead>\n",
       "  <tbody>\n",
       "    <tr>\n",
       "      <th>25269</th>\n",
       "      <td>Microsoft Azure Sponsorship</td>\n",
       "      <td>15dc64f3-696a-48fc-9169-8467e3f7bba0</td>\n",
       "      <td>2024-10-31</td>\n",
       "      <td>40551b4c-e8be-48ed-b70b-f8d25c7de724</td>\n",
       "      <td>Storage</td>\n",
       "      <td>General Block Blob</td>\n",
       "      <td>All</td>\n",
       "      <td>Read Operations</td>\n",
       "      <td>0.000800</td>\n",
       "      <td>0.000000</td>\n",
       "      <td>unicin</td>\n",
       "    </tr>\n",
       "    <tr>\n",
       "      <th>25239</th>\n",
       "      <td>Microsoft Azure Sponsorship</td>\n",
       "      <td>15dc64f3-696a-48fc-9169-8467e3f7bba0</td>\n",
       "      <td>2024-10-21</td>\n",
       "      <td>8dbc6497-3d3a-47d6-9de4-dd42072fad66</td>\n",
       "      <td>Storage</td>\n",
       "      <td>Standard Page Blob</td>\n",
       "      <td>BR South</td>\n",
       "      <td>LRS Data Stored</td>\n",
       "      <td>0.001248</td>\n",
       "      <td>0.000144</td>\n",
       "      <td>unicin</td>\n",
       "    </tr>\n",
       "    <tr>\n",
       "      <th>25209</th>\n",
       "      <td>Microsoft Azure Sponsorship</td>\n",
       "      <td>15dc64f3-696a-48fc-9169-8467e3f7bba0</td>\n",
       "      <td>2024-10-31</td>\n",
       "      <td>2f2a1523-d8af-5cea-9b91-d0285e17e343</td>\n",
       "      <td>Backup</td>\n",
       "      <td>All</td>\n",
       "      <td>BR South</td>\n",
       "      <td>Azure VM Protected Instances</td>\n",
       "      <td>0.008064</td>\n",
       "      <td>0.080640</td>\n",
       "      <td>unicin</td>\n",
       "    </tr>\n",
       "    <tr>\n",
       "      <th>25179</th>\n",
       "      <td>Microsoft Azure Sponsorship</td>\n",
       "      <td>15dc64f3-696a-48fc-9169-8467e3f7bba0</td>\n",
       "      <td>2024-10-21</td>\n",
       "      <td>e53063d5-dd23-4bdf-a1df-cdfe862d01ab</td>\n",
       "      <td>Storage</td>\n",
       "      <td>Standard SSD Managed Disks</td>\n",
       "      <td>BR South</td>\n",
       "      <td>E3 LRS Disk</td>\n",
       "      <td>0.064512</td>\n",
       "      <td>0.144528</td>\n",
       "      <td>unicin</td>\n",
       "    </tr>\n",
       "    <tr>\n",
       "      <th>25149</th>\n",
       "      <td>Microsoft Azure Sponsorship</td>\n",
       "      <td>15dc64f3-696a-48fc-9169-8467e3f7bba0</td>\n",
       "      <td>2024-10-31</td>\n",
       "      <td>05212985-faad-4b6c-8ddb-c08cc8e37f79</td>\n",
       "      <td>Storage</td>\n",
       "      <td>Premium Page Blob</td>\n",
       "      <td>US East</td>\n",
       "      <td>P10 LRS Disk</td>\n",
       "      <td>0.052416</td>\n",
       "      <td>1.033123</td>\n",
       "      <td>unicin</td>\n",
       "    </tr>\n",
       "    <tr>\n",
       "      <th>25119</th>\n",
       "      <td>Microsoft Azure Sponsorship</td>\n",
       "      <td>15dc64f3-696a-48fc-9169-8467e3f7bba0</td>\n",
       "      <td>2024-10-21</td>\n",
       "      <td>43034668-a244-4031-bb4d-be5bcce22c5f</td>\n",
       "      <td>Bandwidth</td>\n",
       "      <td>Inter-Region</td>\n",
       "      <td>Intercontinental</td>\n",
       "      <td>Inter Continent Data Transfer Out - LATAM To Any</td>\n",
       "      <td>0.000134</td>\n",
       "      <td>0.000009</td>\n",
       "      <td>unicin</td>\n",
       "    </tr>\n",
       "    <tr>\n",
       "      <th>25089</th>\n",
       "      <td>Microsoft Azure Sponsorship</td>\n",
       "      <td>15dc64f3-696a-48fc-9169-8467e3f7bba0</td>\n",
       "      <td>2024-10-31</td>\n",
       "      <td>d23a5753-ff85-4ddf-af28-8cc5cf2d3882</td>\n",
       "      <td>Storage</td>\n",
       "      <td>Standard Page Blob</td>\n",
       "      <td>All</td>\n",
       "      <td>LRS Data Stored</td>\n",
       "      <td>0.000078</td>\n",
       "      <td>0.000000</td>\n",
       "      <td>unicin</td>\n",
       "    </tr>\n",
       "    <tr>\n",
       "      <th>25059</th>\n",
       "      <td>Microsoft Azure Sponsorship</td>\n",
       "      <td>15dc64f3-696a-48fc-9169-8467e3f7bba0</td>\n",
       "      <td>2024-10-21</td>\n",
       "      <td>cd4cfb51-f027-4d88-89d0-80e78795f00e</td>\n",
       "      <td>Backup</td>\n",
       "      <td>All</td>\n",
       "      <td>BR South</td>\n",
       "      <td>GRS Data Stored</td>\n",
       "      <td>1.612248</td>\n",
       "      <td>0.098352</td>\n",
       "      <td>unicin</td>\n",
       "    </tr>\n",
       "    <tr>\n",
       "      <th>25029</th>\n",
       "      <td>Microsoft Azure Sponsorship</td>\n",
       "      <td>15dc64f3-696a-48fc-9169-8467e3f7bba0</td>\n",
       "      <td>2024-10-31</td>\n",
       "      <td>b9e5e77c-a0b3-4a2c-9b8b-57fa54f31c52</td>\n",
       "      <td>Storage</td>\n",
       "      <td>Tables</td>\n",
       "      <td>All</td>\n",
       "      <td>Batch Write Operations</td>\n",
       "      <td>0.016000</td>\n",
       "      <td>0.000000</td>\n",
       "      <td>unicin</td>\n",
       "    </tr>\n",
       "    <tr>\n",
       "      <th>24999</th>\n",
       "      <td>Microsoft Azure Sponsorship</td>\n",
       "      <td>15dc64f3-696a-48fc-9169-8467e3f7bba0</td>\n",
       "      <td>2024-10-21</td>\n",
       "      <td>26ce34b7-67b3-480d-9d1b-54a7fb80f67a</td>\n",
       "      <td>Virtual Network</td>\n",
       "      <td>IP Addresses</td>\n",
       "      <td>All</td>\n",
       "      <td>Basic IPv4 Static Public IP</td>\n",
       "      <td>24.000000</td>\n",
       "      <td>0.086400</td>\n",
       "      <td>unicin</td>\n",
       "    </tr>\n",
       "  </tbody>\n",
       "</table>\n",
       "</div>"
      ],
      "text/plain": [
       "                 subscription_name                     subscription_guid       date                         resource_guid     service_name                service_type    service_region                                  service_resource  quantity     cost maquina\n",
       "25269  Microsoft Azure Sponsorship  15dc64f3-696a-48fc-9169-8467e3f7bba0 2024-10-31  40551b4c-e8be-48ed-b70b-f8d25c7de724          Storage          General Block Blob               All                                   Read Operations  0.000800 0.000000  unicin\n",
       "25239  Microsoft Azure Sponsorship  15dc64f3-696a-48fc-9169-8467e3f7bba0 2024-10-21  8dbc6497-3d3a-47d6-9de4-dd42072fad66          Storage          Standard Page Blob          BR South                                   LRS Data Stored  0.001248 0.000144  unicin\n",
       "25209  Microsoft Azure Sponsorship  15dc64f3-696a-48fc-9169-8467e3f7bba0 2024-10-31  2f2a1523-d8af-5cea-9b91-d0285e17e343           Backup                         All          BR South                      Azure VM Protected Instances  0.008064 0.080640  unicin\n",
       "25179  Microsoft Azure Sponsorship  15dc64f3-696a-48fc-9169-8467e3f7bba0 2024-10-21  e53063d5-dd23-4bdf-a1df-cdfe862d01ab          Storage  Standard SSD Managed Disks          BR South                                       E3 LRS Disk  0.064512 0.144528  unicin\n",
       "25149  Microsoft Azure Sponsorship  15dc64f3-696a-48fc-9169-8467e3f7bba0 2024-10-31  05212985-faad-4b6c-8ddb-c08cc8e37f79          Storage           Premium Page Blob           US East                                      P10 LRS Disk  0.052416 1.033123  unicin\n",
       "25119  Microsoft Azure Sponsorship  15dc64f3-696a-48fc-9169-8467e3f7bba0 2024-10-21  43034668-a244-4031-bb4d-be5bcce22c5f        Bandwidth                Inter-Region  Intercontinental  Inter Continent Data Transfer Out - LATAM To Any  0.000134 0.000009  unicin\n",
       "25089  Microsoft Azure Sponsorship  15dc64f3-696a-48fc-9169-8467e3f7bba0 2024-10-31  d23a5753-ff85-4ddf-af28-8cc5cf2d3882          Storage          Standard Page Blob               All                                   LRS Data Stored  0.000078 0.000000  unicin\n",
       "25059  Microsoft Azure Sponsorship  15dc64f3-696a-48fc-9169-8467e3f7bba0 2024-10-21  cd4cfb51-f027-4d88-89d0-80e78795f00e           Backup                         All          BR South                                   GRS Data Stored  1.612248 0.098352  unicin\n",
       "25029  Microsoft Azure Sponsorship  15dc64f3-696a-48fc-9169-8467e3f7bba0 2024-10-31  b9e5e77c-a0b3-4a2c-9b8b-57fa54f31c52          Storage                      Tables               All                            Batch Write Operations  0.016000 0.000000  unicin\n",
       "24999  Microsoft Azure Sponsorship  15dc64f3-696a-48fc-9169-8467e3f7bba0 2024-10-21  26ce34b7-67b3-480d-9d1b-54a7fb80f67a  Virtual Network                IP Addresses               All                       Basic IPv4 Static Public IP 24.000000 0.086400  unicin"
      ]
     },
     "execution_count": 15,
     "metadata": {},
     "output_type": "execute_result"
    }
   ],
   "source": [
    "df.iloc[len(df):(len(df)-300):-30]"
   ]
  },
  {
   "cell_type": "code",
   "execution_count": 17,
   "metadata": {},
   "outputs": [],
   "source": [
    "df2 = df.copy()"
   ]
  },
  {
   "cell_type": "markdown",
   "metadata": {},
   "source": [
    "## 1.2 Data Dimension"
   ]
  },
  {
   "cell_type": "code",
   "execution_count": 20,
   "metadata": {},
   "outputs": [
    {
     "data": {
      "text/plain": [
       "(25270, 11)"
      ]
     },
     "execution_count": 20,
     "metadata": {},
     "output_type": "execute_result"
    }
   ],
   "source": [
    "df.shape"
   ]
  },
  {
   "cell_type": "markdown",
   "metadata": {},
   "source": [
    "## 1.3 Data Types"
   ]
  },
  {
   "cell_type": "code",
   "execution_count": 21,
   "metadata": {},
   "outputs": [
    {
     "name": "stdout",
     "output_type": "stream",
     "text": [
      "<class 'pandas.core.frame.DataFrame'>\n",
      "RangeIndex: 25270 entries, 0 to 25269\n",
      "Data columns (total 11 columns):\n",
      " #   Column             Non-Null Count  Dtype         \n",
      "---  ------             --------------  -----         \n",
      " 0   subscription_name  25270 non-null  object        \n",
      " 1   subscription_guid  25270 non-null  object        \n",
      " 2   date               25270 non-null  datetime64[ns]\n",
      " 3   resource_guid      25270 non-null  object        \n",
      " 4   service_name       25270 non-null  object        \n",
      " 5   service_type       25270 non-null  object        \n",
      " 6   service_region     25270 non-null  object        \n",
      " 7   service_resource   25270 non-null  object        \n",
      " 8   quantity           25270 non-null  float64       \n",
      " 9   cost               25270 non-null  float64       \n",
      " 10  maquina            25270 non-null  object        \n",
      "dtypes: datetime64[ns](1), float64(2), object(8)\n",
      "memory usage: 2.1+ MB\n"
     ]
    }
   ],
   "source": [
    "df.info()"
   ]
  },
  {
   "cell_type": "code",
   "execution_count": 22,
   "metadata": {},
   "outputs": [
    {
     "data": {
      "text/plain": [
       "subscription_name    0\n",
       "subscription_guid    0\n",
       "date                 0\n",
       "resource_guid        0\n",
       "service_name         0\n",
       "service_type         0\n",
       "service_region       0\n",
       "service_resource     0\n",
       "quantity             0\n",
       "cost                 0\n",
       "maquina              0\n",
       "dtype: int64"
      ]
     },
     "execution_count": 22,
     "metadata": {},
     "output_type": "execute_result"
    }
   ],
   "source": [
    "df.isna().sum()"
   ]
  },
  {
   "cell_type": "markdown",
   "metadata": {},
   "source": [
    "## 1.5 Estatística Descritiva"
   ]
  },
  {
   "cell_type": "code",
   "execution_count": 23,
   "metadata": {},
   "outputs": [],
   "source": [
    "variaveis_categoricas = df.select_dtypes( exclude = [ 'int32','int64', 'float64','datetime64[ns]'])\n",
    "variaveis_numericas = df.select_dtypes( include = [ 'int32','int64', 'float64'])"
   ]
  },
  {
   "cell_type": "markdown",
   "metadata": {},
   "source": [
    "### 1.5.1 Variáveis Numéricas"
   ]
  },
  {
   "cell_type": "code",
   "execution_count": 24,
   "metadata": {},
   "outputs": [
    {
     "data": {
      "text/html": [
       "<div>\n",
       "<style scoped>\n",
       "    .dataframe tbody tr th:only-of-type {\n",
       "        vertical-align: middle;\n",
       "    }\n",
       "\n",
       "    .dataframe tbody tr th {\n",
       "        vertical-align: top;\n",
       "    }\n",
       "\n",
       "    .dataframe thead th {\n",
       "        text-align: right;\n",
       "    }\n",
       "</style>\n",
       "<table border=\"1\" class=\"dataframe\">\n",
       "  <thead>\n",
       "    <tr style=\"text-align: right;\">\n",
       "      <th></th>\n",
       "      <th>variaveis</th>\n",
       "      <th>minimo</th>\n",
       "      <th>maximo</th>\n",
       "      <th>range</th>\n",
       "      <th>media</th>\n",
       "      <th>mediana</th>\n",
       "      <th>desvio_padrao</th>\n",
       "      <th>assimetria</th>\n",
       "      <th>curtosis</th>\n",
       "    </tr>\n",
       "  </thead>\n",
       "  <tbody>\n",
       "    <tr>\n",
       "      <th>0</th>\n",
       "      <td>quantity</td>\n",
       "      <td>0.000000</td>\n",
       "      <td>832.332400</td>\n",
       "      <td>832.332400</td>\n",
       "      <td>10.338208</td>\n",
       "      <td>0.058000</td>\n",
       "      <td>37.297461</td>\n",
       "      <td>6.687346</td>\n",
       "      <td>67.186468</td>\n",
       "    </tr>\n",
       "    <tr>\n",
       "      <th>1</th>\n",
       "      <td>cost</td>\n",
       "      <td>0.000000</td>\n",
       "      <td>14.386982</td>\n",
       "      <td>14.386982</td>\n",
       "      <td>0.291584</td>\n",
       "      <td>0.014411</td>\n",
       "      <td>0.568602</td>\n",
       "      <td>3.032971</td>\n",
       "      <td>20.310895</td>\n",
       "    </tr>\n",
       "  </tbody>\n",
       "</table>\n",
       "</div>"
      ],
      "text/plain": [
       "  variaveis   minimo     maximo      range     media  mediana  desvio_padrao  assimetria  curtosis\n",
       "0  quantity 0.000000 832.332400 832.332400 10.338208 0.058000      37.297461    6.687346 67.186468\n",
       "1      cost 0.000000  14.386982  14.386982  0.291584 0.014411       0.568602    3.032971 20.310895"
      ]
     },
     "execution_count": 24,
     "metadata": {},
     "output_type": "execute_result"
    }
   ],
   "source": [
    "estatistica_numerica = estatistica_descritiva(variaveis_numericas)\n",
    "estatistica_numerica"
   ]
  },
  {
   "cell_type": "code",
   "execution_count": 25,
   "metadata": {},
   "outputs": [
    {
     "data": {
      "image/png": "[encoded data removed]",
      "text/plain": [
       "<Figure size 1800x1000 with 2 Axes>"
      ]
     },
     "metadata": {},
     "output_type": "display_data"
    }
   ],
   "source": [
    "variaveis_numericas.hist(bins = 30);"
   ]
  },
  {
   "cell_type": "code",
   "execution_count": 26,
   "metadata": {},
   "outputs": [],
   "source": [
    "#df['week_of_year'].hist(bins = 52);"
   ]
  },
  {
   "cell_type": "markdown",
   "metadata": {},
   "source": [
    "### 1.5.2 Vairiáveis Categóricas"
   ]
  },
  {
   "cell_type": "code",
   "execution_count": 27,
   "metadata": {},
   "outputs": [
    {
     "data": {
      "text/html": [
       "<div>\n",
       "<style scoped>\n",
       "    .dataframe tbody tr th:only-of-type {\n",
       "        vertical-align: middle;\n",
       "    }\n",
       "\n",
       "    .dataframe tbody tr th {\n",
       "        vertical-align: top;\n",
       "    }\n",
       "\n",
       "    .dataframe thead th {\n",
       "        text-align: right;\n",
       "    }\n",
       "</style>\n",
       "<table border=\"1\" class=\"dataframe\">\n",
       "  <thead>\n",
       "    <tr style=\"text-align: right;\">\n",
       "      <th></th>\n",
       "      <th>count</th>\n",
       "      <th>unique</th>\n",
       "      <th>top</th>\n",
       "      <th>freq</th>\n",
       "    </tr>\n",
       "  </thead>\n",
       "  <tbody>\n",
       "    <tr>\n",
       "      <th>subscription_name</th>\n",
       "      <td>25270</td>\n",
       "      <td>1</td>\n",
       "      <td>Microsoft Azure Sponsorship</td>\n",
       "      <td>25270</td>\n",
       "    </tr>\n",
       "    <tr>\n",
       "      <th>subscription_guid</th>\n",
       "      <td>25270</td>\n",
       "      <td>1</td>\n",
       "      <td>15dc64f3-696a-48fc-9169-8467e3f7bba0</td>\n",
       "      <td>25270</td>\n",
       "    </tr>\n",
       "    <tr>\n",
       "      <th>resource_guid</th>\n",
       "      <td>25270</td>\n",
       "      <td>44</td>\n",
       "      <td>ce957933-8287-4f8b-83ee-53a5cbe056d9</td>\n",
       "      <td>1023</td>\n",
       "    </tr>\n",
       "    <tr>\n",
       "      <th>service_name</th>\n",
       "      <td>25270</td>\n",
       "      <td>8</td>\n",
       "      <td>Storage</td>\n",
       "      <td>14903</td>\n",
       "    </tr>\n",
       "    <tr>\n",
       "      <th>service_type</th>\n",
       "      <td>25270</td>\n",
       "      <td>14</td>\n",
       "      <td>All</td>\n",
       "      <td>4734</td>\n",
       "    </tr>\n",
       "    <tr>\n",
       "      <th>service_region</th>\n",
       "      <td>25270</td>\n",
       "      <td>6</td>\n",
       "      <td>All</td>\n",
       "      <td>10814</td>\n",
       "    </tr>\n",
       "    <tr>\n",
       "      <th>service_resource</th>\n",
       "      <td>25270</td>\n",
       "      <td>35</td>\n",
       "      <td>LRS Data Stored</td>\n",
       "      <td>4127</td>\n",
       "    </tr>\n",
       "    <tr>\n",
       "      <th>maquina</th>\n",
       "      <td>25270</td>\n",
       "      <td>1</td>\n",
       "      <td>unicin</td>\n",
       "      <td>25270</td>\n",
       "    </tr>\n",
       "  </tbody>\n",
       "</table>\n",
       "</div>"
      ],
      "text/plain": [
       "                   count unique                                   top   freq\n",
       "subscription_name  25270      1           Microsoft Azure Sponsorship  25270\n",
       "subscription_guid  25270      1  15dc64f3-696a-48fc-9169-8467e3f7bba0  25270\n",
       "resource_guid      25270     44  ce957933-8287-4f8b-83ee-53a5cbe056d9   1023\n",
       "service_name       25270      8                               Storage  14903\n",
       "service_type       25270     14                                   All   4734\n",
       "service_region     25270      6                                   All  10814\n",
       "service_resource   25270     35                       LRS Data Stored   4127\n",
       "maquina            25270      1                                unicin  25270"
      ]
     },
     "execution_count": 27,
     "metadata": {},
     "output_type": "execute_result"
    }
   ],
   "source": [
    "variaveis_categoricas.describe().T"
   ]
  },
  {
   "cell_type": "code",
   "execution_count": 28,
   "metadata": {},
   "outputs": [
    {
     "name": "stdout",
     "output_type": "stream",
     "text": [
      "Atributo: subscription_name\n",
      "Valores Únicos: 1\n",
      "Valores Descritos: ['Microsoft Azure Sponsorship']\n",
      "\n",
      "Atributo: subscription_guid\n",
      "Valores Únicos: 1\n",
      "Valores Descritos: ['15dc64f3-696a-48fc-9169-8467e3f7bba0']\n",
      "\n",
      "Atributo: resource_guid\n",
      "Valores Únicos: 44\n",
      "Valores Descritos: ['05212985-faad-4b6c-8ddb-c08cc8e37f79', '0f824807-2376-435c-95c9-f992b67a07b0', '211e620c-ebcf-4db5-a7fd-996abebe9546', '26ce34b7-67b3-480d-9d1b-54a7fb80f67a', '2dba9884-2518-4427-90ff-d2c100c5f775', '2f2a1523-d8af-5cea-9b91-d0285e17e343', '37a224be-47e1-42bd-b2aa-f08060e965ee', '39edab1a-b691-4088-9bb2-6ffe51d91da4', '3f2b1e1c-c886-4ec6-ad6f-dd0ef38819c9', '40551b4c-e8be-48ed-b70b-f8d25c7de724', '42e2a22f-fabf-41ea-a21e-e86bb3ff5799', '43034668-a244-4031-bb4d-be5bcce22c5f', '45459e84-815c-5b78-be46-75f78a824d07', '5101ea73-2a5b-4120-b00e-30c13185e5a5', '6551548b-7e61-4f51-896e-eb907d256b95', '69147946-58dc-4ede-890a-815890b4ba03', '6db4a779-0d75-481a-af26-026ccf5795c8', '73ad5336-6f64-4263-9537-1d571874dac6', '82cd70ab-1aee-4b30-bc04-8b71e1204dbc', '8d099b7b-bce4-4fd4-bcc3-95d867d84332', '8dbc6497-3d3a-47d6-9de4-dd42072fad66', '8f967c58-b144-4bd7-8882-8bf02767c839', '923978e1-fd3f-4bd5-a798-f4b533057e46', '9995d93a-7d35-4d3f-9c69-7a7fea447ef4', '9c150bf9-2bad-430e-a53c-c213804f49ef', 'ae331802-83a5-4b9e-b287-85675f794e3d', 'b0931109-47c5-42e9-a548-00adac804b4b', 'b9e5e77c-a0b3-4a2c-9b8b-57fa54f31c52', 'beb1457b-1ab8-4e38-8021-bf7e39b1014b', 'c01a1eed-b19a-4aad-bb83-8d62cdc29778', 'c089a13a-9dd0-44b5-aa9e-44a77bbd6788', 'c80a3636-2edb-4248-bcb1-04ef818a75ac', 'cc44d8d6-484a-41f0-87cd-7e1496651906', 'cd4cfb51-f027-4d88-89d0-80e78795f00e', 'ce957933-8287-4f8b-83ee-53a5cbe056d9', 'd23a5753-ff85-4ddf-af28-8cc5cf2d3882', 'd54686f0-77ff-43f3-9e7c-2099030d32a7', 'dbefcfc1-e3f6-409b-be6d-9cd7b00724a5', 'e53063d5-dd23-4bdf-a1df-cdfe862d01ab', 'ed8a651a-e0a3-4de6-a8ae-3b4ce8cb72cf', 'f114cb19-ea64-40b5-bcd7-aee474b62853', 'f1fcf7da-9502-4a86-bfe7-9c2646efa203', 'f8c187bb-5a47-46ae-b874-f186d207fff4', 'fec1d8d1-cc81-4d54-a391-83e228df4928']\n",
      "\n",
      "Atributo: service_name\n",
      "Valores Únicos: 8\n",
      "Valores Descritos: ['Azure DNS', 'Backup', 'Bandwidth', 'Key Vault', 'Network Watcher', 'Storage', 'Virtual Machines', 'Virtual Network']\n",
      "\n",
      "Atributo: service_type\n",
      "Valores Únicos: 14\n",
      "Valores Descritos: ['All', 'BS Series', 'Basv2 Series', 'Dv3/DSv3 Series', 'Files', 'General Block Blob', 'IP Addresses', 'Inter-Region', 'Premium Page Blob', 'Premium SSD Managed Disks', 'Standard HDD Managed Disks', 'Standard Page Blob', 'Standard SSD Managed Disks', 'Tables']\n",
      "\n",
      "Atributo: service_region\n",
      "Valores Únicos: 6\n",
      "Valores Descritos: ['All', 'BR South', 'Intercontinental', 'North America', 'South America', 'US East']\n",
      "\n",
      "Atributo: service_resource\n",
      "Valores Únicos: 35\n",
      "Valores Descritos: ['Azure VM Protected Instances', 'B2als v2', 'B2ms', 'B2s', 'Basic IPv4 Dynamic Public IP', 'Basic IPv4 Static Public IP', 'Batch Write Operations', 'D2 v3/D2s v3', 'Delete Operations', 'Disk Read Operations', 'Disk Write Operations', 'E3 LRS Disk', 'E4 LRS Disk', 'E4 LRS Disk Operations', 'E6 LRS Disk', 'GRS Data Stored', 'Inter Continent Data Transfer Out - LATAM To Any', 'Inter Continent Data Transfer Out - NAM or EU To Any', 'Intra Continent Data Transfer Out', 'LRS Data Stored', 'LRS List and Create Container Operations', 'LRS Write Operations', 'Operations', 'P10 LRS Disk', 'P4 LRS Disk', 'P6 LRS Disk', 'Public Queries', 'Public Zone', 'Read Operations', 'S4 LRS Disk Operations', 'Snapshots LRS Snapshots', 'Snapshots ZRS Snapshots', 'Standard Data Transfer Out', 'Standard Diagnostic Tool API', 'Standard IPv4 Static Public IP']\n",
      "\n",
      "Atributo: maquina\n",
      "Valores Únicos: 1\n",
      "Valores Descritos: ['unicin']\n",
      "\n"
     ]
    }
   ],
   "source": [
    "visualizacao_dados_categoricos(variaveis_categoricas)"
   ]
  },
  {
   "cell_type": "markdown",
   "metadata": {},
   "source": [
    "# 1.6 Export PKL"
   ]
  },
  {
   "cell_type": "code",
   "execution_count": 27,
   "metadata": {},
   "outputs": [],
   "source": [
    "exportar_df(df=df)"
   ]
  }
 ],
 "metadata": {
  "kernelspec": {
   "display_name": "Python 3.11.9 ('v3119')",
   "language": "python",
   "name": "python3"
  },
  "language_info": {
   "codemirror_mode": {
    "name": "ipython",
    "version": 3
   },
   "file_extension": ".py",
   "mimetype": "text/x-python",
   "name": "python",
   "nbconvert_exporter": "python",
   "pygments_lexer": "ipython3",
   "version": "3.11.9"
  },
  "orig_nbformat": 4,
  "vscode": {
   "interpreter": {
    "hash": "d9fd945bec87ea1faae53cf0492201e0c2959d8565ad017415241cf5b171a17a"
   }
  }
 },
 "nbformat": 4,
 "nbformat_minor": 2
}
