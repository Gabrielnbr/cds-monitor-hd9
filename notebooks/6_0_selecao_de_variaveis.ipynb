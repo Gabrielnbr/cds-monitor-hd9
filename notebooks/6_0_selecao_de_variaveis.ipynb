{
 "cells": [
  {
   "cell_type": "markdown",
   "metadata": {},
   "source": [
    "# 0 Imports"
   ]
  },
  {
   "cell_type": "code",
   "execution_count": 44,
   "metadata": {},
   "outputs": [],
   "source": [
    "import pickle\n",
    "import datetime\n",
    "\n",
    "import numpy as np\n",
    "import pandas as pd\n",
    "import seaborn as sns\n",
    "import plotly.express as px\n",
    "\n",
    "from matplotlib import pyplot as plt\n",
    "\n",
    "from IPython.display        import Image\n",
    "from IPython.core.display   import HTML\n",
    "\n",
    "from sklearn.feature_selection  import RFE\n",
    "from sklearn.linear_model       import LinearRegression\n",
    "from sklearn.model_selection    import cross_val_score\n",
    "from sklearn.metrics            import mean_squared_error\n",
    "from lightgbm                   import LGBMRegressor"
   ]
  },
  {
   "cell_type": "code",
   "execution_count": 45,
   "metadata": {},
   "outputs": [],
   "source": [
    "# Supressão da notação científica.\n",
    "np.set_printoptions(suppress=True)\n",
    "pd.set_option('display.float_format', '{:.6f}'.format)"
   ]
  },
  {
   "cell_type": "markdown",
   "metadata": {},
   "source": [
    "## 0.1 Funções Suporte"
   ]
  },
  {
   "cell_type": "code",
   "execution_count": 46,
   "metadata": {},
   "outputs": [
    {
     "name": "stdout",
     "output_type": "stream",
     "text": [
      "%pylab is deprecated, use %matplotlib inline and import the required libraries.\n",
      "Populating the interactive namespace from numpy and matplotlib\n"
     ]
    },
    {
     "name": "stderr",
     "output_type": "stream",
     "text": [
      "e:\\3_recursos\\2_area\\profissional\\cursos\\v3119\\Lib\\site-packages\\IPython\\core\\magics\\pylab.py:166: UserWarning: pylab import has clobbered these variables: ['indices']\n",
      "`%matplotlib` prevents importing * from pylab and numpy\n",
      "  warn(\"pylab import has clobbered these variables: %s\"  % clobbered +\n"
     ]
    },
    {
     "data": {
      "text/html": [
       "<style>.container { width: 100% !important;} </style>"
      ],
      "text/plain": [
       "<IPython.core.display.HTML object>"
      ]
     },
     "metadata": {},
     "output_type": "display_data"
    }
   ],
   "source": [
    "def jupyter_settings():\n",
    "    %matplotlib inline\n",
    "    %pylab inline\n",
    "    \n",
    "    plt.style.use( 'bmh' )\n",
    "    plt.rcParams['figure.figsize'] = [18,8]\n",
    "    plt.rcParams['font.size'] = 14\n",
    "    \n",
    "    display( HTML('<style>.container { width: 100% !important;} </style>') )\n",
    "    pd.options.display.max_columns = None\n",
    "    pd.options.display.max_rows = None\n",
    "    pd.set_option( 'display.expand_frame_repr', False)\n",
    "    \n",
    "    sns.set()\n",
    "    \n",
    "jupyter_settings()"
   ]
  },
  {
   "cell_type": "code",
   "execution_count": 47,
   "metadata": {},
   "outputs": [],
   "source": [
    "def abrir_arquivo()-> pd.DataFrame:\n",
    "    with open(f\"{__CAMINHO_INTERIM}{__NOME_ARQUIVO_IMPORTAR}\",\"rb\") as arquivo:\n",
    "        df = pickle.load(arquivo)\n",
    "    return df"
   ]
  },
  {
   "cell_type": "code",
   "execution_count": 77,
   "metadata": {},
   "outputs": [],
   "source": [
    "def exportar_df(df: pd.DataFrame, nome_arquivo: str):\n",
    "    df.to_pickle(f'{__CAMINHO_PROCESSED}{nome_arquivo}.pkl')"
   ]
  },
  {
   "cell_type": "markdown",
   "metadata": {},
   "source": [
    "## 0.2 Load Data"
   ]
  },
  {
   "cell_type": "code",
   "execution_count": 79,
   "metadata": {},
   "outputs": [],
   "source": [
    "__CAMINHO_INTERIM = '../data/interim/'\n",
    "__CAMINHO_PROCESSED = '../data/processed/'\n",
    "\n",
    "__NOME_ARQUIVO_IMPORTAR = '5_0_preparacao_dados.pkl'\n",
    "#__NOME_ARQUIVO_EXPORTAR = '6_0_selecao_vars.pkl'"
   ]
  },
  {
   "cell_type": "markdown",
   "metadata": {},
   "source": [
    "# 6.0 Seleção de Variáveis"
   ]
  },
  {
   "cell_type": "code",
   "execution_count": 50,
   "metadata": {},
   "outputs": [],
   "source": [
    "df = abrir_arquivo()"
   ]
  },
  {
   "cell_type": "code",
   "execution_count": 51,
   "metadata": {},
   "outputs": [
    {
     "name": "stdout",
     "output_type": "stream",
     "text": [
      "<class 'pandas.core.frame.DataFrame'>\n",
      "Index: 13268 entries, 46044 to 59311\n",
      "Data columns (total 29 columns):\n",
      " #   Column                    Non-Null Count  Dtype         \n",
      "---  ------                    --------------  -----         \n",
      " 0   date                      13268 non-null  datetime64[ns]\n",
      " 1   resource_guid             13268 non-null  float64       \n",
      " 2   service_name              13268 non-null  float64       \n",
      " 3   service_type              13268 non-null  float64       \n",
      " 4   service_region            13268 non-null  float64       \n",
      " 5   service_resource          13268 non-null  float64       \n",
      " 6   quantity                  13268 non-null  float64       \n",
      " 7   cost                      13268 non-null  float64       \n",
      " 8   ano                       13268 non-null  int32         \n",
      " 9   mes                       13268 non-null  int32         \n",
      " 10  dia                       13268 non-null  int32         \n",
      " 11  semana_ano                13268 non-null  UInt32        \n",
      " 12  ano_semana                13268 non-null  int64         \n",
      " 13  ano_mes                   13268 non-null  int64         \n",
      " 14  dia_da_semana             13268 non-null  int32         \n",
      " 15  fim_de_semana             13268 non-null  int64         \n",
      " 16  custo_fixo_diario         13268 non-null  float64       \n",
      " 17  custo_fixo_semanal        13268 non-null  float64       \n",
      " 18  custo_fixo_mensal         13268 non-null  float64       \n",
      " 19  custo_soma_movel_semanal  13268 non-null  float64       \n",
      " 20  custo_soma_movel_mensal   13268 non-null  float64       \n",
      " 21  mes_sen                   13268 non-null  float64       \n",
      " 22  mes_cos                   13268 non-null  float64       \n",
      " 23  dia_sen                   13268 non-null  float64       \n",
      " 24  dia_cos                   13268 non-null  float64       \n",
      " 25  semana_ano_sen            13268 non-null  float64       \n",
      " 26  semana_ano_cos            13268 non-null  float64       \n",
      " 27  dia_da_semana_sen         13268 non-null  float64       \n",
      " 28  dia_da_semana_cos         13268 non-null  float64       \n",
      "dtypes: UInt32(1), datetime64[ns](1), float64(20), int32(4), int64(3)\n",
      "memory usage: 2.8 MB\n"
     ]
    }
   ],
   "source": [
    "df.info()"
   ]
  },
  {
   "cell_type": "markdown",
   "metadata": {},
   "source": [
    "## 6.1 Train Test"
   ]
  },
  {
   "cell_type": "code",
   "execution_count": 52,
   "metadata": {},
   "outputs": [
    {
     "name": "stdout",
     "output_type": "stream",
     "text": [
      "2024-10-30 00:00:00\n",
      "2022-10-31 00:00:00\n"
     ]
    }
   ],
   "source": [
    "print(df['date'].max())\n",
    "print(df['date'].min())"
   ]
  },
  {
   "cell_type": "code",
   "execution_count": 53,
   "metadata": {},
   "outputs": [
    {
     "name": "stdout",
     "output_type": "stream",
     "text": [
      "2024-09-30 00:00:00\n",
      "2022-10-31 00:00:00\n",
      "2024-10-30 00:00:00\n",
      "2024-10-01 00:00:00\n"
     ]
    }
   ],
   "source": [
    "X_train = df[df['date'] <= '2024-09-30']\n",
    "y_train = X_train['cost']\n",
    "print(X_train['date'].max())\n",
    "print(X_train['date'].min())\n",
    "\n",
    "\n",
    "X_test = df[df['date'] > '2024-09-30']\n",
    "y_test = X_test['cost']\n",
    "print(X_test['date'].max())\n",
    "print(X_test['date'].min()) "
   ]
  },
  {
   "cell_type": "code",
   "execution_count": 54,
   "metadata": {},
   "outputs": [],
   "source": [
    "X_train = X_train.drop(columns=['cost','date'])\n",
    "X_test = X_test.drop(columns=['cost','date'])"
   ]
  },
  {
   "cell_type": "markdown",
   "metadata": {},
   "source": [
    "## 6.2 Seleção com KNN"
   ]
  },
  {
   "cell_type": "code",
   "execution_count": 55,
   "metadata": {},
   "outputs": [
    {
     "name": "stdout",
     "output_type": "stream",
     "text": [
      "MSE: 0.07599180437149725\n",
      "Features Selecionadas: [ 0  1  2  3  4  5  6  7 11 14 15 18 19]\n"
     ]
    }
   ],
   "source": [
    "# Inicialize o KNN Regressor\n",
    "lr = LinearRegression()\n",
    "\n",
    "# Aplicar RFE para selecionar as melhores features\n",
    "rfe = RFE(estimator=lr)\n",
    "X_train_rfe = rfe.fit_transform(X_train, y_train)\n",
    "X_test_rfe = rfe.transform(X_test)\n",
    "\n",
    "# Treine o modelo e avalie\n",
    "lr.fit(X_train_rfe, y_train)\n",
    "y_pred = lr.predict(X_test_rfe)\n",
    "\n",
    "print(\"MSE:\", mean_squared_error(y_test, y_pred))\n",
    "print(\"Features Selecionadas:\", np.where(rfe.support_)[0])"
   ]
  },
  {
   "cell_type": "code",
   "execution_count": 56,
   "metadata": {},
   "outputs": [
    {
     "data": {
      "text/plain": [
       "['resource_guid',\n",
       " 'service_name',\n",
       " 'service_type',\n",
       " 'service_region',\n",
       " 'service_resource',\n",
       " 'quantity',\n",
       " 'ano',\n",
       " 'mes',\n",
       " 'ano_mes',\n",
       " 'custo_fixo_diario',\n",
       " 'custo_fixo_semanal',\n",
       " 'custo_soma_movel_mensal',\n",
       " 'mes_sen']"
      ]
     },
     "execution_count": 56,
     "metadata": {},
     "output_type": "execute_result"
    }
   ],
   "source": [
    "X_train.iloc[:,rfe.support_].columns.to_list()"
   ]
  },
  {
   "cell_type": "markdown",
   "metadata": {},
   "source": [
    "## 6.3 Seleção com LGBM"
   ]
  },
  {
   "cell_type": "code",
   "execution_count": 57,
   "metadata": {},
   "outputs": [
    {
     "name": "stdout",
     "output_type": "stream",
     "text": [
      "[LightGBM] [Info] Auto-choosing row-wise multi-threading, the overhead of testing was 0.000896 seconds.\n",
      "You can set `force_row_wise=true` to remove the overhead.\n",
      "And if memory is not enough, you can set `force_col_wise=true`.\n",
      "[LightGBM] [Info] Total Bins 1592\n",
      "[LightGBM] [Info] Number of data points in the train set: 12698, number of used features: 27\n",
      "[LightGBM] [Info] Start training from score 0.204476\n",
      "Feature ranking\n",
      "                    feature  importance\n",
      "0                  quantity         898\n",
      "0         custo_fixo_diario         508\n",
      "0             resource_guid         268\n",
      "0          service_resource         248\n",
      "0              service_type         221\n",
      "0                ano_semana         166\n",
      "0              service_name         147\n",
      "0   custo_soma_movel_mensal          71\n",
      "0        custo_fixo_semanal          66\n",
      "0            service_region          60\n",
      "0                semana_ano          57\n",
      "0            semana_ano_cos          50\n",
      "0  custo_soma_movel_semanal          38\n",
      "0         custo_fixo_mensal          29\n",
      "0            semana_ano_sen          25\n",
      "0             dia_da_semana          25\n",
      "0                       mes          23\n",
      "0                       dia          21\n",
      "0                   dia_sen          20\n",
      "0                   dia_cos          19\n",
      "0                       ano          13\n",
      "0                   ano_mes           8\n",
      "0                   mes_cos           8\n",
      "0         dia_da_semana_sen           5\n",
      "0                   mes_sen           4\n",
      "0         dia_da_semana_cos           2\n",
      "0             fim_de_semana           0\n"
     ]
    }
   ],
   "source": [
    "# Crie e treine o modelo LGBMClassifier\n",
    "lgb_model = LGBMRegressor(n_jobs=-1, random_state=42)\n",
    "X_train_sel = X_train\n",
    "lgb_model.fit(X_train_sel, y_train)\n",
    "\n",
    "# Obtenha as importâncias das características do modelo\n",
    "importances = lgb_model.feature_importances_\n",
    "\n",
    "# Ordene as características por importância decrescente\n",
    "indices = np.argsort(importances)[::-1]\n",
    "\n",
    "# Imprima o ranking das características\n",
    "print('Feature ranking')\n",
    "df_lgbm = pd.DataFrame()\n",
    "\n",
    "for i, j in zip(X_train_sel.columns, importances):\n",
    "    aux = pd.DataFrame({'feature': i, 'importance': j}, index=[0])\n",
    "    df_lgbm = pd.concat([df_lgbm, aux], axis=0)\n",
    "\n",
    "print(df_lgbm.sort_values('importance', ascending=False))"
   ]
  },
  {
   "cell_type": "markdown",
   "metadata": {},
   "source": [
    "## 6.4 Seleção com RandomForest"
   ]
  },
  {
   "cell_type": "code",
   "execution_count": 58,
   "metadata": {},
   "outputs": [],
   "source": [
    "from sklearn.ensemble import RandomForestRegressor"
   ]
  },
  {
   "cell_type": "code",
   "execution_count": 59,
   "metadata": {},
   "outputs": [
    {
     "name": "stdout",
     "output_type": "stream",
     "text": [
      "5. Random Forest Feature Importance:\n"
     ]
    },
    {
     "data": {
      "text/html": [
       "<div>\n",
       "<style scoped>\n",
       "    .dataframe tbody tr th:only-of-type {\n",
       "        vertical-align: middle;\n",
       "    }\n",
       "\n",
       "    .dataframe tbody tr th {\n",
       "        vertical-align: top;\n",
       "    }\n",
       "\n",
       "    .dataframe thead th {\n",
       "        text-align: right;\n",
       "    }\n",
       "</style>\n",
       "<table border=\"1\" class=\"dataframe\">\n",
       "  <thead>\n",
       "    <tr style=\"text-align: right;\">\n",
       "      <th></th>\n",
       "      <th>feature</th>\n",
       "      <th>importance</th>\n",
       "    </tr>\n",
       "  </thead>\n",
       "  <tbody>\n",
       "    <tr>\n",
       "      <th>2</th>\n",
       "      <td>service_type</td>\n",
       "      <td>0.424044</td>\n",
       "    </tr>\n",
       "    <tr>\n",
       "      <th>4</th>\n",
       "      <td>service_resource</td>\n",
       "      <td>0.253409</td>\n",
       "    </tr>\n",
       "    <tr>\n",
       "      <th>5</th>\n",
       "      <td>quantity</td>\n",
       "      <td>0.246996</td>\n",
       "    </tr>\n",
       "    <tr>\n",
       "      <th>0</th>\n",
       "      <td>resource_guid</td>\n",
       "      <td>0.059187</td>\n",
       "    </tr>\n",
       "    <tr>\n",
       "      <th>14</th>\n",
       "      <td>custo_fixo_diario</td>\n",
       "      <td>0.005365</td>\n",
       "    </tr>\n",
       "    <tr>\n",
       "      <th>10</th>\n",
       "      <td>ano_semana</td>\n",
       "      <td>0.003737</td>\n",
       "    </tr>\n",
       "    <tr>\n",
       "      <th>1</th>\n",
       "      <td>service_name</td>\n",
       "      <td>0.002697</td>\n",
       "    </tr>\n",
       "    <tr>\n",
       "      <th>3</th>\n",
       "      <td>service_region</td>\n",
       "      <td>0.001009</td>\n",
       "    </tr>\n",
       "    <tr>\n",
       "      <th>11</th>\n",
       "      <td>ano_mes</td>\n",
       "      <td>0.000607</td>\n",
       "    </tr>\n",
       "    <tr>\n",
       "      <th>20</th>\n",
       "      <td>mes_cos</td>\n",
       "      <td>0.000463</td>\n",
       "    </tr>\n",
       "    <tr>\n",
       "      <th>24</th>\n",
       "      <td>semana_ano_cos</td>\n",
       "      <td>0.000422</td>\n",
       "    </tr>\n",
       "    <tr>\n",
       "      <th>9</th>\n",
       "      <td>semana_ano</td>\n",
       "      <td>0.000422</td>\n",
       "    </tr>\n",
       "    <tr>\n",
       "      <th>18</th>\n",
       "      <td>custo_soma_movel_mensal</td>\n",
       "      <td>0.000420</td>\n",
       "    </tr>\n",
       "    <tr>\n",
       "      <th>15</th>\n",
       "      <td>custo_fixo_semanal</td>\n",
       "      <td>0.000333</td>\n",
       "    </tr>\n",
       "    <tr>\n",
       "      <th>19</th>\n",
       "      <td>mes_sen</td>\n",
       "      <td>0.000178</td>\n",
       "    </tr>\n",
       "    <tr>\n",
       "      <th>17</th>\n",
       "      <td>custo_soma_movel_semanal</td>\n",
       "      <td>0.000143</td>\n",
       "    </tr>\n",
       "    <tr>\n",
       "      <th>23</th>\n",
       "      <td>semana_ano_sen</td>\n",
       "      <td>0.000087</td>\n",
       "    </tr>\n",
       "    <tr>\n",
       "      <th>21</th>\n",
       "      <td>dia_sen</td>\n",
       "      <td>0.000076</td>\n",
       "    </tr>\n",
       "    <tr>\n",
       "      <th>7</th>\n",
       "      <td>mes</td>\n",
       "      <td>0.000069</td>\n",
       "    </tr>\n",
       "    <tr>\n",
       "      <th>22</th>\n",
       "      <td>dia_cos</td>\n",
       "      <td>0.000063</td>\n",
       "    </tr>\n",
       "    <tr>\n",
       "      <th>25</th>\n",
       "      <td>dia_da_semana_sen</td>\n",
       "      <td>0.000056</td>\n",
       "    </tr>\n",
       "    <tr>\n",
       "      <th>16</th>\n",
       "      <td>custo_fixo_mensal</td>\n",
       "      <td>0.000055</td>\n",
       "    </tr>\n",
       "    <tr>\n",
       "      <th>12</th>\n",
       "      <td>dia_da_semana</td>\n",
       "      <td>0.000053</td>\n",
       "    </tr>\n",
       "    <tr>\n",
       "      <th>8</th>\n",
       "      <td>dia</td>\n",
       "      <td>0.000045</td>\n",
       "    </tr>\n",
       "    <tr>\n",
       "      <th>26</th>\n",
       "      <td>dia_da_semana_cos</td>\n",
       "      <td>0.000035</td>\n",
       "    </tr>\n",
       "    <tr>\n",
       "      <th>6</th>\n",
       "      <td>ano</td>\n",
       "      <td>0.000027</td>\n",
       "    </tr>\n",
       "    <tr>\n",
       "      <th>13</th>\n",
       "      <td>fim_de_semana</td>\n",
       "      <td>0.000002</td>\n",
       "    </tr>\n",
       "  </tbody>\n",
       "</table>\n",
       "</div>"
      ],
      "text/plain": [
       "                     feature  importance\n",
       "2               service_type    0.424044\n",
       "4           service_resource    0.253409\n",
       "5                   quantity    0.246996\n",
       "0              resource_guid    0.059187\n",
       "14         custo_fixo_diario    0.005365\n",
       "10                ano_semana    0.003737\n",
       "1               service_name    0.002697\n",
       "3             service_region    0.001009\n",
       "11                   ano_mes    0.000607\n",
       "20                   mes_cos    0.000463\n",
       "24            semana_ano_cos    0.000422\n",
       "9                 semana_ano    0.000422\n",
       "18   custo_soma_movel_mensal    0.000420\n",
       "15        custo_fixo_semanal    0.000333\n",
       "19                   mes_sen    0.000178\n",
       "17  custo_soma_movel_semanal    0.000143\n",
       "23            semana_ano_sen    0.000087\n",
       "21                   dia_sen    0.000076\n",
       "7                        mes    0.000069\n",
       "22                   dia_cos    0.000063\n",
       "25         dia_da_semana_sen    0.000056\n",
       "16         custo_fixo_mensal    0.000055\n",
       "12             dia_da_semana    0.000053\n",
       "8                        dia    0.000045\n",
       "26         dia_da_semana_cos    0.000035\n",
       "6                        ano    0.000027\n",
       "13             fim_de_semana    0.000002"
      ]
     },
     "execution_count": 59,
     "metadata": {},
     "output_type": "execute_result"
    }
   ],
   "source": [
    "print(\"5. Random Forest Feature Importance:\")\n",
    "\n",
    "rf = RandomForestRegressor(random_state=42)\n",
    "rf.fit(X_train, y_train)\n",
    "\n",
    "rf_importance = pd.DataFrame({\n",
    "    'feature': X_train.columns,\n",
    "    'importance': rf.feature_importances_\n",
    "}).sort_values('importance', ascending=False)\n",
    "\n",
    "rf_importance"
   ]
  },
  {
   "cell_type": "markdown",
   "metadata": {},
   "source": [
    "## 6.5 Seleção com Boruta"
   ]
  },
  {
   "cell_type": "code",
   "execution_count": 60,
   "metadata": {},
   "outputs": [],
   "source": [
    "from boruta import BorutaPy"
   ]
  },
  {
   "cell_type": "code",
   "execution_count": 61,
   "metadata": {},
   "outputs": [
    {
     "name": "stdout",
     "output_type": "stream",
     "text": [
      "Iteration: \t1 / 100\n",
      "Confirmed: \t0\n",
      "Tentative: \t27\n",
      "Rejected: \t0\n",
      "Iteration: \t2 / 100\n",
      "Confirmed: \t0\n",
      "Tentative: \t27\n",
      "Rejected: \t0\n",
      "Iteration: \t3 / 100\n",
      "Confirmed: \t0\n",
      "Tentative: \t27\n",
      "Rejected: \t0\n",
      "Iteration: \t4 / 100\n",
      "Confirmed: \t0\n",
      "Tentative: \t27\n",
      "Rejected: \t0\n",
      "Iteration: \t5 / 100\n",
      "Confirmed: \t0\n",
      "Tentative: \t27\n",
      "Rejected: \t0\n",
      "Iteration: \t6 / 100\n",
      "Confirmed: \t0\n",
      "Tentative: \t27\n",
      "Rejected: \t0\n",
      "Iteration: \t7 / 100\n",
      "Confirmed: \t0\n",
      "Tentative: \t27\n",
      "Rejected: \t0\n",
      "Iteration: \t8 / 100\n",
      "Confirmed: \t12\n",
      "Tentative: \t6\n",
      "Rejected: \t9\n",
      "Iteration: \t9 / 100\n",
      "Confirmed: \t12\n",
      "Tentative: \t6\n",
      "Rejected: \t9\n",
      "Iteration: \t10 / 100\n",
      "Confirmed: \t12\n",
      "Tentative: \t6\n",
      "Rejected: \t9\n",
      "Iteration: \t11 / 100\n",
      "Confirmed: \t12\n",
      "Tentative: \t6\n",
      "Rejected: \t9\n",
      "Iteration: \t12 / 100\n",
      "Confirmed: \t12\n",
      "Tentative: \t6\n",
      "Rejected: \t9\n",
      "Iteration: \t13 / 100\n",
      "Confirmed: \t12\n",
      "Tentative: \t5\n",
      "Rejected: \t10\n",
      "Iteration: \t14 / 100\n",
      "Confirmed: \t12\n",
      "Tentative: \t5\n",
      "Rejected: \t10\n",
      "Iteration: \t15 / 100\n",
      "Confirmed: \t12\n",
      "Tentative: \t5\n",
      "Rejected: \t10\n",
      "Iteration: \t16 / 100\n",
      "Confirmed: \t12\n",
      "Tentative: \t4\n",
      "Rejected: \t11\n",
      "Iteration: \t17 / 100\n",
      "Confirmed: \t12\n",
      "Tentative: \t4\n",
      "Rejected: \t11\n",
      "Iteration: \t18 / 100\n",
      "Confirmed: \t12\n",
      "Tentative: \t4\n",
      "Rejected: \t11\n",
      "Iteration: \t19 / 100\n",
      "Confirmed: \t13\n",
      "Tentative: \t3\n",
      "Rejected: \t11\n",
      "Iteration: \t20 / 100\n",
      "Confirmed: \t13\n",
      "Tentative: \t3\n",
      "Rejected: \t11\n",
      "Iteration: \t21 / 100\n",
      "Confirmed: \t13\n",
      "Tentative: \t3\n",
      "Rejected: \t11\n",
      "Iteration: \t22 / 100\n",
      "Confirmed: \t13\n",
      "Tentative: \t3\n",
      "Rejected: \t11\n",
      "Iteration: \t23 / 100\n",
      "Confirmed: \t13\n",
      "Tentative: \t3\n",
      "Rejected: \t11\n",
      "Iteration: \t24 / 100\n",
      "Confirmed: \t13\n",
      "Tentative: \t3\n",
      "Rejected: \t11\n",
      "Iteration: \t25 / 100\n",
      "Confirmed: \t13\n",
      "Tentative: \t3\n",
      "Rejected: \t11\n",
      "Iteration: \t26 / 100\n",
      "Confirmed: \t13\n",
      "Tentative: \t3\n",
      "Rejected: \t11\n",
      "Iteration: \t27 / 100\n",
      "Confirmed: \t13\n",
      "Tentative: \t3\n",
      "Rejected: \t11\n",
      "Iteration: \t28 / 100\n",
      "Confirmed: \t13\n",
      "Tentative: \t3\n",
      "Rejected: \t11\n",
      "Iteration: \t29 / 100\n",
      "Confirmed: \t13\n",
      "Tentative: \t3\n",
      "Rejected: \t11\n",
      "Iteration: \t30 / 100\n",
      "Confirmed: \t13\n",
      "Tentative: \t3\n",
      "Rejected: \t11\n",
      "Iteration: \t31 / 100\n",
      "Confirmed: \t13\n",
      "Tentative: \t3\n",
      "Rejected: \t11\n",
      "Iteration: \t32 / 100\n",
      "Confirmed: \t13\n",
      "Tentative: \t3\n",
      "Rejected: \t11\n",
      "Iteration: \t33 / 100\n",
      "Confirmed: \t13\n",
      "Tentative: \t3\n",
      "Rejected: \t11\n",
      "Iteration: \t34 / 100\n",
      "Confirmed: \t13\n",
      "Tentative: \t3\n",
      "Rejected: \t11\n",
      "Iteration: \t35 / 100\n",
      "Confirmed: \t13\n",
      "Tentative: \t3\n",
      "Rejected: \t11\n",
      "Iteration: \t36 / 100\n",
      "Confirmed: \t13\n",
      "Tentative: \t3\n",
      "Rejected: \t11\n",
      "Iteration: \t37 / 100\n",
      "Confirmed: \t13\n",
      "Tentative: \t3\n",
      "Rejected: \t11\n",
      "Iteration: \t38 / 100\n",
      "Confirmed: \t13\n",
      "Tentative: \t3\n",
      "Rejected: \t11\n",
      "Iteration: \t39 / 100\n",
      "Confirmed: \t13\n",
      "Tentative: \t3\n",
      "Rejected: \t11\n",
      "Iteration: \t40 / 100\n",
      "Confirmed: \t13\n",
      "Tentative: \t3\n",
      "Rejected: \t11\n",
      "Iteration: \t41 / 100\n",
      "Confirmed: \t13\n",
      "Tentative: \t3\n",
      "Rejected: \t11\n",
      "Iteration: \t42 / 100\n",
      "Confirmed: \t13\n",
      "Tentative: \t3\n",
      "Rejected: \t11\n",
      "Iteration: \t43 / 100\n",
      "Confirmed: \t13\n",
      "Tentative: \t3\n",
      "Rejected: \t11\n",
      "Iteration: \t44 / 100\n",
      "Confirmed: \t13\n",
      "Tentative: \t3\n",
      "Rejected: \t11\n",
      "Iteration: \t45 / 100\n",
      "Confirmed: \t13\n",
      "Tentative: \t3\n",
      "Rejected: \t11\n",
      "Iteration: \t46 / 100\n",
      "Confirmed: \t13\n",
      "Tentative: \t3\n",
      "Rejected: \t11\n",
      "Iteration: \t47 / 100\n",
      "Confirmed: \t13\n",
      "Tentative: \t3\n",
      "Rejected: \t11\n",
      "Iteration: \t48 / 100\n",
      "Confirmed: \t13\n",
      "Tentative: \t3\n",
      "Rejected: \t11\n",
      "Iteration: \t49 / 100\n",
      "Confirmed: \t13\n",
      "Tentative: \t3\n",
      "Rejected: \t11\n",
      "Iteration: \t50 / 100\n",
      "Confirmed: \t13\n",
      "Tentative: \t3\n",
      "Rejected: \t11\n",
      "Iteration: \t51 / 100\n",
      "Confirmed: \t13\n",
      "Tentative: \t3\n",
      "Rejected: \t11\n",
      "Iteration: \t52 / 100\n",
      "Confirmed: \t13\n",
      "Tentative: \t3\n",
      "Rejected: \t11\n",
      "Iteration: \t53 / 100\n",
      "Confirmed: \t13\n",
      "Tentative: \t3\n",
      "Rejected: \t11\n",
      "Iteration: \t54 / 100\n",
      "Confirmed: \t13\n",
      "Tentative: \t3\n",
      "Rejected: \t11\n",
      "Iteration: \t55 / 100\n",
      "Confirmed: \t13\n",
      "Tentative: \t3\n",
      "Rejected: \t11\n",
      "Iteration: \t56 / 100\n",
      "Confirmed: \t13\n",
      "Tentative: \t3\n",
      "Rejected: \t11\n",
      "Iteration: \t57 / 100\n",
      "Confirmed: \t13\n",
      "Tentative: \t3\n",
      "Rejected: \t11\n",
      "Iteration: \t58 / 100\n",
      "Confirmed: \t13\n",
      "Tentative: \t3\n",
      "Rejected: \t11\n",
      "Iteration: \t59 / 100\n",
      "Confirmed: \t13\n",
      "Tentative: \t3\n",
      "Rejected: \t11\n",
      "Iteration: \t60 / 100\n",
      "Confirmed: \t13\n",
      "Tentative: \t3\n",
      "Rejected: \t11\n",
      "Iteration: \t61 / 100\n",
      "Confirmed: \t13\n",
      "Tentative: \t3\n",
      "Rejected: \t11\n",
      "Iteration: \t62 / 100\n",
      "Confirmed: \t13\n",
      "Tentative: \t3\n",
      "Rejected: \t11\n",
      "Iteration: \t63 / 100\n",
      "Confirmed: \t13\n",
      "Tentative: \t3\n",
      "Rejected: \t11\n",
      "Iteration: \t64 / 100\n",
      "Confirmed: \t13\n",
      "Tentative: \t3\n",
      "Rejected: \t11\n",
      "Iteration: \t65 / 100\n",
      "Confirmed: \t13\n",
      "Tentative: \t3\n",
      "Rejected: \t11\n",
      "Iteration: \t66 / 100\n",
      "Confirmed: \t13\n",
      "Tentative: \t3\n",
      "Rejected: \t11\n",
      "Iteration: \t67 / 100\n",
      "Confirmed: \t13\n",
      "Tentative: \t3\n",
      "Rejected: \t11\n",
      "Iteration: \t68 / 100\n",
      "Confirmed: \t13\n",
      "Tentative: \t3\n",
      "Rejected: \t11\n",
      "Iteration: \t69 / 100\n",
      "Confirmed: \t13\n",
      "Tentative: \t3\n",
      "Rejected: \t11\n",
      "Iteration: \t70 / 100\n",
      "Confirmed: \t13\n",
      "Tentative: \t3\n",
      "Rejected: \t11\n",
      "Iteration: \t71 / 100\n",
      "Confirmed: \t13\n",
      "Tentative: \t3\n",
      "Rejected: \t11\n",
      "Iteration: \t72 / 100\n",
      "Confirmed: \t13\n",
      "Tentative: \t3\n",
      "Rejected: \t11\n",
      "Iteration: \t73 / 100\n",
      "Confirmed: \t13\n",
      "Tentative: \t3\n",
      "Rejected: \t11\n",
      "Iteration: \t74 / 100\n",
      "Confirmed: \t13\n",
      "Tentative: \t3\n",
      "Rejected: \t11\n",
      "Iteration: \t75 / 100\n",
      "Confirmed: \t13\n",
      "Tentative: \t3\n",
      "Rejected: \t11\n",
      "Iteration: \t76 / 100\n",
      "Confirmed: \t13\n",
      "Tentative: \t3\n",
      "Rejected: \t11\n",
      "Iteration: \t77 / 100\n",
      "Confirmed: \t13\n",
      "Tentative: \t3\n",
      "Rejected: \t11\n",
      "Iteration: \t78 / 100\n",
      "Confirmed: \t13\n",
      "Tentative: \t3\n",
      "Rejected: \t11\n",
      "Iteration: \t79 / 100\n",
      "Confirmed: \t13\n",
      "Tentative: \t3\n",
      "Rejected: \t11\n",
      "Iteration: \t80 / 100\n",
      "Confirmed: \t13\n",
      "Tentative: \t3\n",
      "Rejected: \t11\n",
      "Iteration: \t81 / 100\n",
      "Confirmed: \t13\n",
      "Tentative: \t3\n",
      "Rejected: \t11\n",
      "Iteration: \t82 / 100\n",
      "Confirmed: \t13\n",
      "Tentative: \t3\n",
      "Rejected: \t11\n",
      "Iteration: \t83 / 100\n",
      "Confirmed: \t13\n",
      "Tentative: \t3\n",
      "Rejected: \t11\n",
      "Iteration: \t84 / 100\n",
      "Confirmed: \t13\n",
      "Tentative: \t3\n",
      "Rejected: \t11\n",
      "Iteration: \t85 / 100\n",
      "Confirmed: \t13\n",
      "Tentative: \t3\n",
      "Rejected: \t11\n",
      "Iteration: \t86 / 100\n",
      "Confirmed: \t13\n",
      "Tentative: \t3\n",
      "Rejected: \t11\n",
      "Iteration: \t87 / 100\n",
      "Confirmed: \t13\n",
      "Tentative: \t3\n",
      "Rejected: \t11\n",
      "Iteration: \t88 / 100\n",
      "Confirmed: \t13\n",
      "Tentative: \t3\n",
      "Rejected: \t11\n",
      "Iteration: \t89 / 100\n",
      "Confirmed: \t13\n",
      "Tentative: \t3\n",
      "Rejected: \t11\n",
      "Iteration: \t90 / 100\n",
      "Confirmed: \t13\n",
      "Tentative: \t3\n",
      "Rejected: \t11\n",
      "Iteration: \t91 / 100\n",
      "Confirmed: \t13\n",
      "Tentative: \t3\n",
      "Rejected: \t11\n",
      "Iteration: \t92 / 100\n",
      "Confirmed: \t13\n",
      "Tentative: \t3\n",
      "Rejected: \t11\n",
      "Iteration: \t93 / 100\n",
      "Confirmed: \t13\n",
      "Tentative: \t3\n",
      "Rejected: \t11\n",
      "Iteration: \t94 / 100\n",
      "Confirmed: \t13\n",
      "Tentative: \t3\n",
      "Rejected: \t11\n",
      "Iteration: \t95 / 100\n",
      "Confirmed: \t13\n",
      "Tentative: \t3\n",
      "Rejected: \t11\n",
      "Iteration: \t96 / 100\n",
      "Confirmed: \t13\n",
      "Tentative: \t3\n",
      "Rejected: \t11\n",
      "Iteration: \t97 / 100\n",
      "Confirmed: \t13\n",
      "Tentative: \t3\n",
      "Rejected: \t11\n",
      "Iteration: \t98 / 100\n",
      "Confirmed: \t13\n",
      "Tentative: \t3\n",
      "Rejected: \t11\n",
      "Iteration: \t99 / 100\n",
      "Confirmed: \t13\n",
      "Tentative: \t3\n",
      "Rejected: \t11\n",
      "\n",
      "\n",
      "BorutaPy finished running.\n",
      "\n",
      "Iteration: \t100 / 100\n",
      "Confirmed: \t13\n",
      "Tentative: \t0\n",
      "Rejected: \t14\n"
     ]
    }
   ],
   "source": [
    "rf = RandomForestRegressor()\n",
    "boruta = BorutaPy( rf, n_estimators = 'auto', verbose=2, random_state=42).fit( X_train, y_train)"
   ]
  },
  {
   "cell_type": "code",
   "execution_count": 62,
   "metadata": {},
   "outputs": [],
   "source": [
    "cols_selected = boruta.support_.tolist()\n",
    "\n",
    "# best features\n",
    "cols_selected_boruta = X_train.iloc[:, cols_selected].columns.to_list()\n",
    "\n",
    "# not selected boruta\n",
    "cols_not_selected_boruta = list( np.setdiff1d( X_train.columns, cols_selected_boruta ) )"
   ]
  },
  {
   "cell_type": "code",
   "execution_count": 63,
   "metadata": {},
   "outputs": [
    {
     "data": {
      "text/plain": [
       "['resource_guid',\n",
       " 'service_name',\n",
       " 'service_type',\n",
       " 'service_region',\n",
       " 'service_resource',\n",
       " 'quantity',\n",
       " 'semana_ano',\n",
       " 'ano_semana',\n",
       " 'ano_mes',\n",
       " 'custo_fixo_diario',\n",
       " 'custo_soma_movel_mensal',\n",
       " 'mes_cos',\n",
       " 'semana_ano_cos']"
      ]
     },
     "execution_count": 63,
     "metadata": {},
     "output_type": "execute_result"
    }
   ],
   "source": [
    "cols_selected_boruta"
   ]
  },
  {
   "cell_type": "markdown",
   "metadata": {},
   "source": [
    "## 6.5 Filtro do Dataframe"
   ]
  },
  {
   "cell_type": "code",
   "execution_count": 64,
   "metadata": {},
   "outputs": [],
   "source": [
    "selecao_de_colunas = [  'date',\n",
    "                        'cost',\n",
    "                        'service_name',\n",
    "                        'service_type',\n",
    "                        'service_region',\n",
    "                        'quantity',\n",
    "                        'mes',\n",
    "                        'semana_ano',\n",
    "                        'ano_semana',\n",
    "                        'ano_mes',\n",
    "                        'custo_fixo_diario',\n",
    "                        'custo_soma_movel_semanal',\n",
    "                        'custo_soma_movel_mensal',\n",
    "                        'mes_cos',\n",
    "                        'semana_ano_cos',\n",
    "                        'dia',\n",
    "                        'dia_cos'\n",
    "                        ]"
   ]
  },
  {
   "cell_type": "code",
   "execution_count": 65,
   "metadata": {},
   "outputs": [
    {
     "data": {
      "text/plain": [
       "Index(['date', 'resource_guid', 'service_name', 'service_type',\n",
       "       'service_region', 'service_resource', 'quantity', 'cost', 'ano', 'mes',\n",
       "       'dia', 'semana_ano', 'ano_semana', 'ano_mes', 'dia_da_semana',\n",
       "       'fim_de_semana', 'custo_fixo_diario', 'custo_fixo_semanal',\n",
       "       'custo_fixo_mensal', 'custo_soma_movel_semanal',\n",
       "       'custo_soma_movel_mensal', 'mes_sen', 'mes_cos', 'dia_sen', 'dia_cos',\n",
       "       'semana_ano_sen', 'semana_ano_cos', 'dia_da_semana_sen',\n",
       "       'dia_da_semana_cos'],\n",
       "      dtype='object')"
      ]
     },
     "execution_count": 65,
     "metadata": {},
     "output_type": "execute_result"
    }
   ],
   "source": [
    "df.columns"
   ]
  },
  {
   "cell_type": "code",
   "execution_count": 66,
   "metadata": {},
   "outputs": [],
   "source": [
    "df_filter = df.loc[:,selecao_de_colunas]"
   ]
  },
  {
   "cell_type": "code",
   "execution_count": 67,
   "metadata": {},
   "outputs": [
    {
     "name": "stdout",
     "output_type": "stream",
     "text": [
      "<class 'pandas.core.frame.DataFrame'>\n",
      "Index: 13268 entries, 46044 to 59311\n",
      "Data columns (total 17 columns):\n",
      " #   Column                    Non-Null Count  Dtype         \n",
      "---  ------                    --------------  -----         \n",
      " 0   date                      13268 non-null  datetime64[ns]\n",
      " 1   cost                      13268 non-null  float64       \n",
      " 2   service_name              13268 non-null  float64       \n",
      " 3   service_type              13268 non-null  float64       \n",
      " 4   service_region            13268 non-null  float64       \n",
      " 5   quantity                  13268 non-null  float64       \n",
      " 6   mes                       13268 non-null  int32         \n",
      " 7   semana_ano                13268 non-null  UInt32        \n",
      " 8   ano_semana                13268 non-null  int64         \n",
      " 9   ano_mes                   13268 non-null  int64         \n",
      " 10  custo_fixo_diario         13268 non-null  float64       \n",
      " 11  custo_soma_movel_semanal  13268 non-null  float64       \n",
      " 12  custo_soma_movel_mensal   13268 non-null  float64       \n",
      " 13  mes_cos                   13268 non-null  float64       \n",
      " 14  semana_ano_cos            13268 non-null  float64       \n",
      " 15  dia                       13268 non-null  int32         \n",
      " 16  dia_cos                   13268 non-null  float64       \n",
      "dtypes: UInt32(1), datetime64[ns](1), float64(11), int32(2), int64(2)\n",
      "memory usage: 1.7 MB\n"
     ]
    }
   ],
   "source": [
    "df_filter.info()"
   ]
  },
  {
   "cell_type": "code",
   "execution_count": 70,
   "metadata": {},
   "outputs": [
    {
     "name": "stdout",
     "output_type": "stream",
     "text": [
      "2024-10-30 00:00:00\n",
      "2022-10-31 00:00:00\n"
     ]
    }
   ],
   "source": [
    "print(df['date'].max())\n",
    "print(df['date'].min())"
   ]
  },
  {
   "cell_type": "markdown",
   "metadata": {},
   "source": [
    "### 6.5.1 Treino"
   ]
  },
  {
   "cell_type": "code",
   "execution_count": 73,
   "metadata": {},
   "outputs": [
    {
     "name": "stdout",
     "output_type": "stream",
     "text": [
      "2024-08-30 00:00:00\n",
      "2022-10-31 00:00:00\n"
     ]
    }
   ],
   "source": [
    "X_train = df[df['date'] <= '2024-08-30']\n",
    "y_train = X_train[['date','cost']]\n",
    "\n",
    "print(X_train['date'].max())\n",
    "print(X_train['date'].min())\n",
    "\n",
    "X_train = X_train.drop(columns=['cost'])"
   ]
  },
  {
   "cell_type": "markdown",
   "metadata": {},
   "source": [
    "### 6.5.2 Teste"
   ]
  },
  {
   "cell_type": "code",
   "execution_count": 75,
   "metadata": {},
   "outputs": [
    {
     "name": "stdout",
     "output_type": "stream",
     "text": [
      "2024-09-30 00:00:00\n",
      "2024-08-31 00:00:00\n"
     ]
    }
   ],
   "source": [
    "X_test = df[(df['date'] > '2024-08-30') & (df['date'] <= '2024-09-30')]\n",
    "y_test = X_test[['date','cost']]\n",
    "\n",
    "print(X_test['date'].max())\n",
    "print(X_test['date'].min()) \n",
    "\n",
    "X_test = X_test.drop(columns=['cost'])"
   ]
  },
  {
   "cell_type": "markdown",
   "metadata": {},
   "source": [
    "### 6.5.3 Validação"
   ]
  },
  {
   "cell_type": "code",
   "execution_count": 76,
   "metadata": {},
   "outputs": [
    {
     "name": "stdout",
     "output_type": "stream",
     "text": [
      "2024-10-30 00:00:00\n",
      "2024-10-01 00:00:00\n"
     ]
    }
   ],
   "source": [
    "X_val = df[(df['date'] > '2024-09-30')]\n",
    "y_val = X_val[['date','cost']]\n",
    "\n",
    "print(X_val['date'].max())\n",
    "print(X_val['date'].min())\n",
    "\n",
    "X_val = X_val.drop(columns=['cost'])"
   ]
  },
  {
   "cell_type": "markdown",
   "metadata": {},
   "source": [
    "## 6.6 Export"
   ]
  },
  {
   "cell_type": "code",
   "execution_count": 78,
   "metadata": {},
   "outputs": [],
   "source": [
    "exportar_df(X_train,'X_train')\n",
    "exportar_df(y_train,'y_train')\n",
    "exportar_df(X_test,'X_test')\n",
    "exportar_df(y_test,'y_test')\n",
    "exportar_df(X_val,'X_val')\n",
    "exportar_df(y_val,'y_val')"
   ]
  },
  {
   "cell_type": "code",
   "execution_count": null,
   "metadata": {},
   "outputs": [],
   "source": []
  }
 ],
 "metadata": {
  "kernelspec": {
   "display_name": "Python 3.11.9 ('v3119')",
   "language": "python",
   "name": "python3"
  },
  "language_info": {
   "codemirror_mode": {
    "name": "ipython",
    "version": 3
   },
   "file_extension": ".py",
   "mimetype": "text/x-python",
   "name": "python",
   "nbconvert_exporter": "python",
   "pygments_lexer": "ipython3",
   "version": "3.11.9"
  },
  "orig_nbformat": 4,
  "vscode": {
   "interpreter": {
    "hash": "d9fd945bec87ea1faae53cf0492201e0c2959d8565ad017415241cf5b171a17a"
   }
  }
 },
 "nbformat": 4,
 "nbformat_minor": 2
}
